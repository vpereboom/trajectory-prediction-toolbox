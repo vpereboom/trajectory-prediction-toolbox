{
 "cells": [
  {
   "cell_type": "code",
   "execution_count": 1,
   "metadata": {},
   "outputs": [
    {
     "name": "stderr",
     "output_type": "stream",
     "text": [
      "/home/victor/.local/lib/python3.6/site-packages/psycopg2/__init__.py:144: UserWarning: The psycopg2 wheel package will be renamed from release 2.8; in order to keep installing from binary please use \"pip install psycopg2-binary\" instead. For details see: <http://initd.org/psycopg/docs/install.html#binary-install-from-pypi>.\n",
      "  \"\"\")\n"
     ]
    }
   ],
   "source": [
    "import pandas as pd\n",
    "import matplotlib.pyplot as plt\n",
    "import numpy as np\n",
    "import math\n",
    "import json\n",
    "import datetime\n",
    "from tqdm import tqdm\n",
    "from matplotlib import mlab\n",
    "from scipy import stats\n",
    "import psycopg2 as psql\n",
    "from psycopg2.extras import RealDictCursor\n",
    "\n",
    "import seaborn as sns\n",
    "sns.set(color_codes=True)"
   ]
  },
  {
   "cell_type": "code",
   "execution_count": 2,
   "metadata": {},
   "outputs": [],
   "source": [
    "try:\n",
    "    conn = psql.connect(\"dbname='thesisdata' user='postgres' host='localhost' password='postgres'\")\n",
    "except Exception as e:\n",
    "    print(\"Unable to connect to the database.\")\n",
    "    print(e)\n",
    "\n",
    "max_inserts = 100\n",
    "fetch_batch_size = max_inserts\n",
    "cnt = 0\n",
    "\n",
    "cur_read = conn.cursor(cursor_factory=RealDictCursor)\n",
    "cur_read.execute(\"SELECT * FROM public.adsb_flights limit 4000;\")\n",
    "batch = cur_read.fetchall()"
   ]
  },
  {
   "cell_type": "code",
   "execution_count": null,
   "metadata": {
    "scrolled": true
   },
   "outputs": [],
   "source": [
    "ep_list = []\n",
    "for b in batch:\n",
    "    ep_list.append(b['start_ep'])\n",
    "    \n",
    "sorted(list(set([datetime.datetime.fromtimestamp(t).strftime('%D') for t in ep_list])))"
   ]
  },
  {
   "cell_type": "code",
   "execution_count": 3,
   "metadata": {
    "scrolled": true
   },
   "outputs": [
    {
     "name": "stderr",
     "output_type": "stream",
     "text": [
      "  0%|          | 0/4000 [00:00<?, ?it/s]/home/victor/.local/lib/python3.6/site-packages/ipykernel_launcher.py:39: SettingWithCopyWarning: \n",
      "A value is trying to be set on a copy of a slice from a DataFrame.\n",
      "Try using .loc[row_indexer,col_indexer] = value instead\n",
      "\n",
      "See the caveats in the documentation: http://pandas.pydata.org/pandas-docs/stable/indexing.html#indexing-view-versus-copy\n",
      "/home/victor/.local/lib/python3.6/site-packages/ipykernel_launcher.py:55: SettingWithCopyWarning: \n",
      "A value is trying to be set on a copy of a slice from a DataFrame.\n",
      "Try using .loc[row_indexer,col_indexer] = value instead\n",
      "\n",
      "See the caveats in the documentation: http://pandas.pydata.org/pandas-docs/stable/indexing.html#indexing-view-versus-copy\n",
      "100%|██████████| 4000/4000 [18:55<00:00,  3.03it/s]\n"
     ]
    }
   ],
   "source": [
    "h_bound = 30000\n",
    "la_times = [300,600,900,1200]\n",
    "alt_dct_h  = {}\n",
    "spd_dct_h = {}\n",
    "hdg_dct_h = {}\n",
    "alt_dct_l = {}\n",
    "spd_dct_l = {}\n",
    "hdg_dct_l = {}\n",
    "\n",
    "for la in la_times:\n",
    "    alt_dct_h[str(la)] = {}\n",
    "    hdg_dct_h[str(la)] = {}\n",
    "    spd_dct_h[str(la)] = {}\n",
    "    \n",
    "    alt_dct_h[str(la)]['vals'] = []\n",
    "    hdg_dct_h[str(la)]['vals'] = []\n",
    "    spd_dct_h[str(la)]['vals'] = []\n",
    "    \n",
    "    alt_dct_l[str(la)] = {}\n",
    "    hdg_dct_l[str(la)] = {}\n",
    "    spd_dct_l[str(la)] = {}\n",
    "    \n",
    "    alt_dct_l[str(la)]['vals'] = []\n",
    "    hdg_dct_l[str(la)]['vals'] = []\n",
    "    spd_dct_l[str(la)]['vals'] = []\n",
    "\n",
    "blen = len(batch)\n",
    "for i,f in enumerate(tqdm(batch)):\n",
    "    \n",
    "#     print('Flight %d/%d' % (i,blen))\n",
    "    fdf = pd.DataFrame.from_dict(f)\n",
    "\n",
    "    #filters\n",
    "    fdf_h = fdf[(fdf['alt'] >= h_bound)]\n",
    "    fdf_l = fdf[(fdf['alt'] < h_bound)]\n",
    "    \n",
    "    if len(fdf_h) != 0:\n",
    "        \n",
    "        fdf_h['time_el'] = fdf_h['ts'] - min(fdf_h['ts'].values)\n",
    "\n",
    "        if max(fdf_h['time_el'].values) >= 1200:\n",
    "\n",
    "            for i,la in enumerate(la_times):\n",
    "                if i==0:\n",
    "                    alt_dct_h[str(la)]['vals'].extend(fdf_h['alt'][(fdf_h['time_el'] <= la) & (fdf_h['time_el'] >= 0)].values - fdf_h['alt'].iloc[0])\n",
    "                    spd_dct_h[str(la)]['vals'].extend(fdf_h['spd'][(fdf_h['time_el'] <= la) & (fdf_h['time_el'] >= 0)].values - fdf_h['spd'].iloc[0])\n",
    "                    hdg_dct_h[str(la)]['vals'].extend(fdf_h['hdg'][(fdf_h['time_el'] <= la) & (fdf_h['time_el'] >= 0)].values - fdf_h['hdg'].iloc[0])\n",
    "                else:\n",
    "                    alt_dct_h[str(la)]['vals'].extend(fdf_h['alt'][(fdf_h['time_el'] <= la) & (fdf_h['time_el'] >= la_times[i-1])].values - fdf_h['alt'].iloc[0])\n",
    "                    spd_dct_h[str(la)]['vals'].extend(fdf_h['spd'][(fdf_h['time_el'] <= la) & (fdf_h['time_el'] >= la_times[i-1])].values - fdf_h['spd'].iloc[0])\n",
    "                    hdg_dct_h[str(la)]['vals'].extend(fdf_h['hdg'][(fdf_h['time_el'] <= la) & (fdf_h['time_el'] >= la_times[i-1])].values - fdf_h['hdg'].iloc[0])\n",
    "\n",
    "    \n",
    "    if len(fdf_l) != 0:\n",
    "        fdf_l['time_el'] = fdf_l['ts'] - min(fdf_l['ts'].values)\n",
    "        if max(fdf_l['time_el'].values) >= 1200:\n",
    "\n",
    "            for i,la in enumerate(la_times):\n",
    "                if i==0:\n",
    "                    alt_dct_l[str(la)]['vals'].extend(fdf_l['alt'][(fdf_l['time_el'] <= la) & (fdf_l['time_el'] >= 0)].values - fdf_l['alt'].iloc[0])\n",
    "                    spd_dct_l[str(la)]['vals'].extend(fdf_l['spd'][(fdf_l['time_el'] <= la) & (fdf_l['time_el'] >= 0)].values - fdf_l['spd'].iloc[0])\n",
    "                    hdg_dct_l[str(la)]['vals'].extend(fdf_l['hdg'][(fdf_l['time_el'] <= la) & (fdf_l['time_el'] >= 0)].values - fdf_l['hdg'].iloc[0])\n",
    "                else:\n",
    "                    alt_dct_l[str(la)]['vals'].extend(fdf_l['alt'][(fdf_l['time_el'] <= la) & (fdf_l['time_el'] >= la_times[i-1])].values - fdf_l['alt'].iloc[0])\n",
    "                    spd_dct_l[str(la)]['vals'].extend(fdf_l['spd'][(fdf_l['time_el'] <= la) & (fdf_l['time_el'] >= la_times[i-1])].values - fdf_l['spd'].iloc[0])\n",
    "                    hdg_dct_l[str(la)]['vals'].extend(fdf_l['hdg'][(fdf_l['time_el'] <= la) & (fdf_l['time_el'] >= la_times[i-1])].values - fdf_l['hdg'].iloc[0])\n",
    "\n",
    "\n",
    "for la in la_times:\n",
    "    alt_dct_h[str(la)]['var'] = np.nanstd(alt_dct_h[str(la)]['vals'])\n",
    "    alt_dct_h[str(la)]['mean'] = np.nanmean(alt_dct_h[str(la)]['vals'])\n",
    "    alt_dct_h[str(la)]['kurt'] = stats.kurtosis(alt_dct_h[str(la)]['vals'])\n",
    "    alt_dct_h[str(la)]['skew'] = stats.skew(alt_dct_h[str(la)]['vals'])\n",
    "    \n",
    "    spd_dct_h[str(la)]['var'] = np.nanstd(spd_dct_h[str(la)]['vals'])\n",
    "    spd_dct_h[str(la)]['mean'] = np.nanmean(spd_dct_h[str(la)]['vals'])\n",
    "    spd_dct_h[str(la)]['kurt'] = stats.kurtosis(spd_dct_h[str(la)]['vals'])\n",
    "    spd_dct_h[str(la)]['skew'] = stats.skew(spd_dct_h[str(la)]['vals'])\n",
    "    \n",
    "    hdg_dct_h[str(la)]['var'] = np.nanstd(hdg_dct_h[str(la)]['vals'])\n",
    "    hdg_dct_h[str(la)]['mean'] = np.nanmean(hdg_dct_h[str(la)]['vals'])\n",
    "    hdg_dct_h[str(la)]['kurt'] = stats.kurtosis(hdg_dct_h[str(la)]['vals'])\n",
    "    hdg_dct_h[str(la)]['skew'] = stats.skew(hdg_dct_h[str(la)]['vals'])\n",
    "    \n",
    "    alt_dct_l[str(la)]['var'] = np.nanstd(alt_dct_l[str(la)]['vals'])\n",
    "    alt_dct_l[str(la)]['mean'] = np.nanmean(alt_dct_l[str(la)]['vals'])\n",
    "    alt_dct_l[str(la)]['kurt'] = stats.kurtosis(alt_dct_l[str(la)]['vals'])\n",
    "    alt_dct_l[str(la)]['skew'] = stats.skew(alt_dct_l[str(la)]['vals'])\n",
    "    \n",
    "    spd_dct_l[str(la)]['var'] = np.nanstd(spd_dct_l[str(la)]['vals'])\n",
    "    spd_dct_l[str(la)]['mean'] = np.nanmean(spd_dct_l[str(la)]['vals'])\n",
    "    spd_dct_l[str(la)]['kurt'] = stats.kurtosis(spd_dct_l[str(la)]['vals'])\n",
    "    spd_dct_l[str(la)]['skew'] = stats.skew(spd_dct_l[str(la)]['vals'])\n",
    "    \n",
    "    hdg_dct_l[str(la)]['var'] = np.nanstd(hdg_dct_l[str(la)]['vals'])\n",
    "    hdg_dct_l[str(la)]['mean'] = np.nanmean(hdg_dct_l[str(la)]['vals'])\n",
    "    hdg_dct_l[str(la)]['kurt'] = stats.kurtosis(hdg_dct_l[str(la)]['vals'])\n",
    "    hdg_dct_l[str(la)]['skew'] = stats.skew(hdg_dct_l[str(la)]['vals'])"
   ]
  },
  {
   "cell_type": "code",
   "execution_count": 4,
   "metadata": {},
   "outputs": [
    {
     "name": "stderr",
     "output_type": "stream",
     "text": [
      "/home/victor/.local/lib/python3.6/site-packages/matplotlib/axes/_axes.py:6571: UserWarning: The 'normed' kwarg is deprecated, and has been replaced by the 'density' kwarg.\n",
      "  warnings.warn(\"The 'normed' kwarg is deprecated, and has been \"\n",
      "/home/victor/.local/lib/python3.6/site-packages/matplotlib/axes/_axes.py:6571: UserWarning: The 'normed' kwarg is deprecated, and has been replaced by the 'density' kwarg.\n",
      "  warnings.warn(\"The 'normed' kwarg is deprecated, and has been \"\n",
      "/home/victor/.local/lib/python3.6/site-packages/matplotlib/axes/_axes.py:6571: UserWarning: The 'normed' kwarg is deprecated, and has been replaced by the 'density' kwarg.\n",
      "  warnings.warn(\"The 'normed' kwarg is deprecated, and has been \"\n",
      "/home/victor/.local/lib/python3.6/site-packages/matplotlib/axes/_axes.py:6571: UserWarning: The 'normed' kwarg is deprecated, and has been replaced by the 'density' kwarg.\n",
      "  warnings.warn(\"The 'normed' kwarg is deprecated, and has been \"\n"
     ]
    },
    {
     "data": {
      "image/png": "[encoded data removed]",
      "text/plain": [
       "<Figure size 432x288 with 1 Axes>"
      ]
     },
     "metadata": {},
     "output_type": "display_data"
    }
   ],
   "source": [
    "from matplotlib import mlab\n",
    "fig, ax = plt.subplots(figsize=(6, 4))\n",
    "range_lim = np.inf\n",
    "dct = spd_dct_h\n",
    "\n",
    "for i,la in enumerate(la_times[::-1]):\n",
    "\n",
    "    la_lst = la_times[::-1] + [0]\n",
    "    xtst = [x for x in dct[str(la)]['vals'] if ~np.isnan(x) and abs(x) < range_lim][:330000]\n",
    "#     print(len(xtst))\n",
    "    n_bins = 100\n",
    "\n",
    "    # plot the cumulative histogram\n",
    "    n, bins, patches = ax.hist(xtst, n_bins, normed=1, histtype='stepfilled',\n",
    "                               cumulative=False, label='Airspeed dev. distr. at %s - %s seconds' % (la_lst[i+1], la), alpha=0.5\n",
    "                               \n",
    "                            \n",
    "                              )\n",
    "\n",
    "plt.legend()#prop={'size': 10}\n",
    "plt.xlim(-150,150)\n",
    "# plt.ylim(0,100000)\n",
    "plt.xlabel('Airspeed deviation (knots)')\n",
    "plt.ylabel('Probability Density')\n",
    "plt.title('Airspeed deviation distributions for different \\n look-ahead time horizons for flights above FL300')\n",
    "plt.show()"
   ]
  },
  {
   "cell_type": "code",
   "execution_count": 60,
   "metadata": {},
   "outputs": [
    {
     "name": "stderr",
     "output_type": "stream",
     "text": [
      "/home/victor/.local/lib/python3.6/site-packages/matplotlib/axes/_axes.py:6571: UserWarning: The 'normed' kwarg is deprecated, and has been replaced by the 'density' kwarg.\n",
      "  warnings.warn(\"The 'normed' kwarg is deprecated, and has been \"\n",
      "/home/victor/.local/lib/python3.6/site-packages/matplotlib/axes/_axes.py:6571: UserWarning: The 'normed' kwarg is deprecated, and has been replaced by the 'density' kwarg.\n",
      "  warnings.warn(\"The 'normed' kwarg is deprecated, and has been \"\n",
      "/home/victor/.local/lib/python3.6/site-packages/matplotlib/axes/_axes.py:6571: UserWarning: The 'normed' kwarg is deprecated, and has been replaced by the 'density' kwarg.\n",
      "  warnings.warn(\"The 'normed' kwarg is deprecated, and has been \"\n",
      "/home/victor/.local/lib/python3.6/site-packages/matplotlib/axes/_axes.py:6571: UserWarning: The 'normed' kwarg is deprecated, and has been replaced by the 'density' kwarg.\n",
      "  warnings.warn(\"The 'normed' kwarg is deprecated, and has been \"\n"
     ]
    },
    {
     "data": {
      "image/png": "[encoded data removed]",
      "text/plain": [
       "<Figure size 432x288 with 1 Axes>"
      ]
     },
     "metadata": {},
     "output_type": "display_data"
    }
   ],
   "source": [
    "fig, ax = plt.subplots(figsize=(6,4))\n",
    "range_lim = np.inf\n",
    "dct = hdg_dct_l\n",
    "\n",
    "for i,la in enumerate(la_times[::-1]):\n",
    "\n",
    "    la_lst = la_times[::-1] + [0]\n",
    "    xtst = [x for x in dct[str(la)]['vals'] if ~np.isnan(x) and abs(x) < range_lim][:330000]\n",
    "    n_bins = 200\n",
    "\n",
    "    # plot the cumulative histogram\n",
    "    n, bins, patches = ax.hist(xtst, n_bins, normed=1, histtype='stepfilled',\n",
    "                               cumulative=False, label='Heading dev. distr. at %s - %s seconds' % (la_lst[i+1], la), alpha=0.6)\n",
    "\n",
    "plt.legend()\n",
    "# plt.xlim(-150,200)\n",
    "plt.ylim(0,0.05)\n",
    "plt.xlabel('Heading deviation (degrees)')\n",
    "plt.ylabel('Probability Density')\n",
    "plt.title('Heading deviation distributions for different \\n look-ahead time horizons for flights below FL300')\n",
    "plt.show()"
   ]
  },
  {
   "cell_type": "code",
   "execution_count": 67,
   "metadata": {
    "scrolled": false
   },
   "outputs": [
    {
     "name": "stderr",
     "output_type": "stream",
     "text": [
      "/home/victor/.local/lib/python3.6/site-packages/matplotlib/axes/_axes.py:6571: UserWarning: The 'normed' kwarg is deprecated, and has been replaced by the 'density' kwarg.\n",
      "  warnings.warn(\"The 'normed' kwarg is deprecated, and has been \"\n",
      "/home/victor/.local/lib/python3.6/site-packages/matplotlib/axes/_axes.py:6571: UserWarning: The 'normed' kwarg is deprecated, and has been replaced by the 'density' kwarg.\n",
      "  warnings.warn(\"The 'normed' kwarg is deprecated, and has been \"\n",
      "/home/victor/.local/lib/python3.6/site-packages/matplotlib/axes/_axes.py:6571: UserWarning: The 'normed' kwarg is deprecated, and has been replaced by the 'density' kwarg.\n",
      "  warnings.warn(\"The 'normed' kwarg is deprecated, and has been \"\n",
      "/home/victor/.local/lib/python3.6/site-packages/matplotlib/axes/_axes.py:6571: UserWarning: The 'normed' kwarg is deprecated, and has been replaced by the 'density' kwarg.\n",
      "  warnings.warn(\"The 'normed' kwarg is deprecated, and has been \"\n"
     ]
    },
    {
     "data": {
      "image/png": "[encoded data removed]",
      "text/plain": [
       "<Figure size 432x288 with 1 Axes>"
      ]
     },
     "metadata": {},
     "output_type": "display_data"
    }
   ],
   "source": [
    "from matplotlib import mlab\n",
    "fig, ax = plt.subplots(figsize=(6, 4))\n",
    "range_lim = np.inf\n",
    "dct = alt_dct_h\n",
    "\n",
    "for i,la in enumerate(la_times[::-1]):\n",
    "\n",
    "    la_lst = la_times[::-1] + [0]\n",
    "    xtst = [x for x in dct[str(la)]['vals'] if ~np.isnan(x) and abs(x) < range_lim][:330000]\n",
    "    n_bins = 100\n",
    "\n",
    "    # plot the cumulative histogram\n",
    "    n, bins, patches = ax.hist(xtst, n_bins, normed=1, histtype='stepfilled',\n",
    "                               cumulative=False, label='Altitude dev. distr. at %s - %s seconds' % (la_lst[i+1], la), alpha=0.6)\n",
    "\n",
    "plt.legend()\n",
    "plt.xlim(-5000,10000)\n",
    "# plt.ylim(-5000,10000)\n",
    "plt.xlabel('Altitude deviation (ft.)')\n",
    "plt.ylabel('Probability Density')\n",
    "plt.title('Distribution of altitude deviation for different \\n look-ahead time horizons for flights above FL300')\n",
    "plt.show()"
   ]
  },
  {
   "cell_type": "code",
   "execution_count": 68,
   "metadata": {
    "scrolled": true
   },
   "outputs": [
    {
     "name": "stdout",
     "output_type": "stream",
     "text": [
      "High Altitude\n",
      "\\multicolumn{1}{|l|}{Mean} & 2342.2 & 3467.6 & 2840.3 & 1908.3 \\\\ \\hline\n",
      "\\multicolumn{1}{|l|}{Variance} & 2152.0 & 3274.1 & 3356.5 & 3263.8 \\\\ \\hline\n",
      "\\multicolumn{1}{|l|}{Kurtosis} & -0.7 & -1.4 & -1.1 & -0.1 \\\\ \\hline\n",
      "\\multicolumn{1}{|l|}{Skewness} & 0.5 & 0.2 & 0.6 & 0.7 \\\\ \\hline\n",
      "Low Altitude\n",
      "\\multicolumn{1}{|l|}{Mean} & 462.9 & -421.6 & -7647.2 & -14592.2 \\\\ \\hline\n",
      "\\multicolumn{1}{|l|}{Variance} & 5585.2 & 13193.6 & 16348.0 & 16017.3 \\\\ \\hline\n",
      "\\multicolumn{1}{|l|}{Kurtosis} & -0.4 & -1.4 & -0.7 & 0.4 \\\\ \\hline\n",
      "\\multicolumn{1}{|l|}{Skewness} & 0.4 & 0.4 & 0.9 & 1.3 \\\\ \\hline\n"
     ]
    }
   ],
   "source": [
    "print('High Altitude')\n",
    "\n",
    "for k in [('mean', 'Mean'),('var','Variance'),('kurt','Kurtosis'),('skew','Skewness')]:\n",
    "#     print(k)\n",
    "    val_str = '\\multicolumn{1}{|l|}{%s}' % k[1]\n",
    "    for v in alt_dct_h.keys():\n",
    "        val_str = val_str + ' & %.1f' % (round(alt_dct_h[v][k[0]],1))\n",
    "    val_str = val_str + ' \\\\\\ \\hline'\n",
    "    print(val_str)\n",
    "    \n",
    "\n",
    "print('Low Altitude')\n",
    "\n",
    "for k in [('mean', 'Mean'),('var','Variance'),('kurt','Kurtosis'),('skew','Skewness')]:\n",
    "#     print(k)\n",
    "    val_str = '\\multicolumn{1}{|l|}{%s}' % k[1]\n",
    "    for v in alt_dct_l.keys():\n",
    "        val_str = val_str + ' & %.1f' % (round(alt_dct_l[v][k[0]],1))\n",
    "    val_str = val_str + ' \\\\\\ \\hline'\n",
    "    print(val_str)"
   ]
  },
  {
   "cell_type": "code",
   "execution_count": 69,
   "metadata": {},
   "outputs": [
    {
     "name": "stdout",
     "output_type": "stream",
     "text": [
      "High Altitude\n",
      "\\multicolumn{1}{|l|}{Mean} & 0.8 & 4.6 & 8.0 & 9.2 \\\\ \\hline\n",
      "\\multicolumn{1}{|l|}{Variance} & 25.4 & 36.1 & 47.2 & 57.1 \\\\ \\hline\n",
      "\\multicolumn{1}{|l|}{Kurtosis} & 61.2 & 21.2 & 11.7 & 7.2 \\\\ \\hline\n",
      "\\multicolumn{1}{|l|}{Skewness} & 0.8 & 2.5 & 1.6 & 0.9 \\\\ \\hline\n",
      "Low Altitude\n",
      "\\multicolumn{1}{|l|}{Mean} & 43.1 & 42.2 & 1.2 & -21.2 \\\\ \\hline\n",
      "\\multicolumn{1}{|l|}{Variance} & 109.9 & 127.1 & 134.8 & 129.0 \\\\ \\hline\n",
      "\\multicolumn{1}{|l|}{Kurtosis} & 1.4 & 0.6 & 0.8 & 0.4 \\\\ \\hline\n",
      "\\multicolumn{1}{|l|}{Skewness} & 0.9 & 0.0 & -0.3 & -0.5 \\\\ \\hline\n"
     ]
    }
   ],
   "source": [
    "print('High Altitude')\n",
    "\n",
    "for k in [('mean', 'Mean'),('var','Variance'),('kurt','Kurtosis'),('skew','Skewness')]:\n",
    "#     print(k)\n",
    "    val_str = '\\multicolumn{1}{|l|}{%s}' % k[1]\n",
    "    for v in hdg_dct_h.keys():\n",
    "        val_str = val_str + ' & %.1f' % (round(hdg_dct_h[v][k[0]],1))\n",
    "    val_str = val_str + ' \\\\\\ \\hline'\n",
    "    print(val_str)\n",
    "    \n",
    "\n",
    "print('Low Altitude')\n",
    "\n",
    "for k in [('mean', 'Mean'),('var','Variance'),('kurt','Kurtosis'),('skew','Skewness')]:\n",
    "#     print(k)\n",
    "    val_str = '\\multicolumn{1}{|l|}{%s}' % k[1]\n",
    "    for v in hdg_dct_l.keys():\n",
    "        val_str = val_str + ' & %.1f' % (round(hdg_dct_l[v][k[0]],1))\n",
    "    val_str = val_str + ' \\\\\\ \\hline'\n",
    "    print(val_str)"
   ]
  },
  {
   "cell_type": "code",
   "execution_count": 70,
   "metadata": {},
   "outputs": [
    {
     "name": "stdout",
     "output_type": "stream",
     "text": [
      "High Altitude\n",
      "\\multicolumn{1}{|l|}{Mean} & -3.5 & -7.1 & -8.1 & -9.2 \\\\ \\hline\n",
      "\\multicolumn{1}{|l|}{Variance} & 12.3 & 16.1 & 18.0 & 20.4 \\\\ \\hline\n",
      "\\multicolumn{1}{|l|}{Kurtosis} & 7.7 & 4.8 & 4.2 & 3.3 \\\\ \\hline\n",
      "\\multicolumn{1}{|l|}{Skewness} & 0.5 & 1.0 & 0.9 & 0.9 \\\\ \\hline\n",
      "Low Altitude\n",
      "\\multicolumn{1}{|l|}{Mean} & 31.0 & 41.8 & -22.8 & -102.7 \\\\ \\hline\n",
      "\\multicolumn{1}{|l|}{Variance} & 71.7 & 135.3 & 159.7 & 170.8 \\\\ \\hline\n",
      "\\multicolumn{1}{|l|}{Kurtosis} & 0.2 & -1.2 & -0.2 & 1.4 \\\\ \\hline\n",
      "\\multicolumn{1}{|l|}{Skewness} & 0.9 & 0.5 & 1.0 & 1.5 \\\\ \\hline\n"
     ]
    }
   ],
   "source": [
    "print('High Altitude')\n",
    "\n",
    "for k in [('mean', 'Mean'),('var','Variance'),('kurt','Kurtosis'),('skew','Skewness')]:\n",
    "#     print(k)\n",
    "    val_str = '\\multicolumn{1}{|l|}{%s}' % k[1]\n",
    "    for v in spd_dct_h.keys():\n",
    "        val_str = val_str + ' & %.1f' % (round(spd_dct_h[v][k[0]],1))\n",
    "    val_str = val_str + ' \\\\\\ \\hline'\n",
    "    print(val_str)\n",
    "    \n",
    "\n",
    "print('Low Altitude')\n",
    "\n",
    "for k in [('mean', 'Mean'),('var','Variance'),('kurt','Kurtosis'),('skew','Skewness')]:\n",
    "#     print(k)\n",
    "    val_str = '\\multicolumn{1}{|l|}{%s}' % k[1]\n",
    "    for v in spd_dct_l.keys():\n",
    "        val_str = val_str + ' & %.1f' % (round(spd_dct_l[v][k[0]],1))\n",
    "    val_str = val_str + ' \\\\\\ \\hline'\n",
    "    print(val_str)"
   ]
  },
  {
   "cell_type": "code",
   "execution_count": null,
   "metadata": {},
   "outputs": [],
   "source": [
    "plt.figure(figsize=(20,8))\n",
    "plt.plot(la_times, [hdg_dct[str(la)]['mean'] for la in la_times])\n",
    "plt.plot(la_times, [hdg_dct[str(la)]['var'] for la in la_times])\n",
    "# plt.plot(la_times, [alt_dct[str(la)]['skew'] for la in la_times])\n",
    "# plt.plot(la_times, [alt_dct[str(la)]['kurt'] for la in la_times])\n",
    "plt.legend(prop={'size': 16})\n",
    "plt.show()"
   ]
  },
  {
   "cell_type": "code",
   "execution_count": null,
   "metadata": {
    "scrolled": false
   },
   "outputs": [],
   "source": [
    "box_data = []\n",
    "dct = spd_dct\n",
    "\n",
    "for la in la_times:\n",
    "    box_data.append((la, [i for i in dct[str(la)]['vals'] if ~np.isnan(i)]))\n",
    "    \n",
    "box_data_sort = sorted(box_data, key=lambda tup: tup[0])\n",
    "box_data_2 = [i[1] for i in box_data_sort]\n",
    "\n",
    "x = range(len(box_data_2)+1)\n",
    "\n",
    "plt.figure(figsize=(10,8))\n",
    "plt.boxplot(box_data_2, showfliers=False, patch_artist=True, whis=[5,95], widths = 0.1)\n",
    "plt.xticks(x, ['0','60','300', '600', '900', '1200'])\n",
    "# plt.xticks(rotation=70)\n",
    "# plt.xlabel('Look-ahead time (seconds)')\n",
    "# plt.ylabel('ATE in meters')\n",
    "# plt.title('Evolution of ATE over look-ahead time')\n",
    "# plt.legend(prop={'size': 16})\n",
    "# plt.xlim((0,600))\n",
    "plt.show()"
   ]
  },
  {
   "cell_type": "code",
   "execution_count": null,
   "metadata": {},
   "outputs": [],
   "source": [
    "df = pd.DataFrame()\n",
    "\n",
    "df['spd'] = spd_dct['300']['vals']\n",
    "df['alt'] = alt_dct['300']['vals']\n",
    "df['hdg'] = hdg_dct['300']['vals']\n",
    "\n",
    "spd_std = (df['spd']-np.mean(df['spd']))/np.std(df['spd'])\n",
    "hdg_std = (df['hdg']-np.mean(df['hdg']))/np.std(df['hdg'])\n",
    "alt_std = (df['alt']-np.mean(df['alt']))/np.std(df['alt'])"
   ]
  },
  {
   "cell_type": "code",
   "execution_count": null,
   "metadata": {},
   "outputs": [],
   "source": [
    "try:\n",
    "    conn = psql.connect(\"dbname='thesisdata' user='postgres' host='localhost' password='postgres'\")\n",
    "except Exception as e:\n",
    "    print(\"Unable to connect to the database.\")\n",
    "    print(e)\n",
    "\n",
    "max_inserts = 100\n",
    "fetch_batch_size = max_inserts\n",
    "cnt = 0\n",
    "\n",
    "cur_read = conn.cursor(cursor_factory=RealDictCursor)\n",
    "cur_read.execute(\"SELECT * FROM public.projected_flights LIMIT 1000;\")\n",
    "\n",
    "fetch_batch_size = 1000\n",
    "\n",
    "la_times = [5*x for x in range(1,121)]\n",
    "alt_dct_2  = {}\n",
    "spd_dct_2 = {}\n",
    "hdg_dct_2 = {}\n",
    "\n",
    "for la in la_times:\n",
    "    alt_dct_2[str(la)] = []\n",
    "    hdg_dct_2[str(la)] = []\n",
    "    spd_dct_2[str(la)] = []\n",
    "\n",
    "while True:\n",
    "    \n",
    "    batch = cur_read.fetchmany(size=fetch_batch_size)\n",
    "    \n",
    "    if not batch:\n",
    "        break\n",
    "    \n",
    "    for f in batch:\n",
    "        fdf = pd.DataFrame.from_dict(f)\n",
    "        for i,la in enumerate(la_times):\n",
    "            if i==0:\n",
    "                alt_dct_2[str(la)].extend(fdf['alt'][(fdf['time_el'] <= la) & (fdf['time_el'] >= 0)].values - fdf['alt'][0])\n",
    "                spd_dct_2[str(la)].extend(fdf['spd'][(fdf['time_el'] <= la) & (fdf['time_el'] >= 0)].values - fdf['spd'][0])\n",
    "                hdg_dct_2[str(la)].extend(fdf['hdg'][(fdf['time_el'] <= la) & (fdf['time_el'] >= 0)].values - fdf['hdg'][0])\n",
    "            else:\n",
    "                alt_dct_2[str(la)].extend(fdf['alt'][(fdf['time_el'] <= la) & (fdf['time_el'] >= la_times[i-1])].values - fdf['alt'][0])\n",
    "                spd_dct_2[str(la)].extend(fdf['spd'][(fdf['time_el'] <= la) & (fdf['time_el'] >= la_times[i-1])].values - fdf['spd'][0])\n",
    "                hdg_dct_2[str(la)].extend(fdf['hdg'][(fdf['time_el'] <= la) & (fdf['time_el'] >= la_times[i-1])].values - fdf['hdg'][0])\n",
    "\n",
    "cur_read.close()\n",
    "conn.close()"
   ]
  },
  {
   "cell_type": "code",
   "execution_count": null,
   "metadata": {},
   "outputs": [],
   "source": [
    "acf = []\n",
    "acf_t = []\n",
    "dct = hdg_dct_2\n",
    "for i,la in enumerate(la_times):\n",
    "    \n",
    "    if i > 0:\n",
    "        \n",
    "        x = [v for v in dct[str(la_times[0])] if ~np.isnan(v)]\n",
    "        y = [v for v in dct[str(la)] if ~np.isnan(v)]\n",
    "        print(len(x))\n",
    "        print(len(y))\n",
    "        acf.append(est_cr(x,y))\n",
    "        acf_t.append(la)"
   ]
  },
  {
   "cell_type": "code",
   "execution_count": null,
   "metadata": {},
   "outputs": [],
   "source": [
    "x = [1,2,3,2,3,2,3,2,3]\n",
    "n = len(x)\n",
    "x = x-np.mean(x)\n",
    "np.correlate(x,x, mode='full')[-n:]"
   ]
  },
  {
   "cell_type": "code",
   "execution_count": null,
   "metadata": {},
   "outputs": [],
   "source": [
    "def est_acr(x):\n",
    "    \"\"\"\n",
    "    http://stackoverflow.com/q/14297012/190597\n",
    "    http://en.wikipedia.org/wiki/Autocorrelation#Estimation\n",
    "    \"\"\"\n",
    "    n = len(x)\n",
    "    variance = x.var()\n",
    "    x = x-x.mean()\n",
    "    r = np.correlate(x, x, mode = 'full')[-n:]\n",
    "    result = r/(variance*(np.arange(n, 0, -1)))\n",
    "    return r\n",
    "\n",
    "def est_cr(x,y):\n",
    "    \"\"\"\n",
    "    http://stackoverflow.com/q/14297012/190597\n",
    "    http://en.wikipedia.org/wiki/Autocorrelation#Estimation\n",
    "    \"\"\"\n",
    "    n = min(len(x),len(y))\n",
    "    x = x[:n]\n",
    "    y = y[:n]\n",
    "    xstd = np.std(x)\n",
    "    ystd = np.std(y)\n",
    "    x = x-np.mean(x)\n",
    "    y = y-np.mean(y)\n",
    "    r = np.dot(x,y)/(n-1)\n",
    "    result = r/(xstd*ystd)\n",
    "    return result"
   ]
  },
  {
   "cell_type": "code",
   "execution_count": null,
   "metadata": {},
   "outputs": [],
   "source": [
    "est_acr(x)"
   ]
  },
  {
   "cell_type": "code",
   "execution_count": null,
   "metadata": {},
   "outputs": [],
   "source": [
    "est_cr([1,2,3,4,5,6],[3,4,3,4,3,4,5,5,5])"
   ]
  },
  {
   "cell_type": "code",
   "execution_count": null,
   "metadata": {},
   "outputs": [],
   "source": [
    "x = [v for v in dct['50'] if ~np.isnan(v)]\n",
    "y = [v for v in dct['60'] if ~np.isnan(v)]\n",
    "print(len(x))\n",
    "print(len(y))\n",
    "acf.append(est_cr(x,y))"
   ]
  },
  {
   "cell_type": "code",
   "execution_count": null,
   "metadata": {},
   "outputs": [],
   "source": []
  }
 ],
 "metadata": {
  "kernelspec": {
   "display_name": "Python 3",
   "language": "python",
   "name": "python3"
  },
  "language_info": {
   "codemirror_mode": {
    "name": "ipython",
    "version": 3
   },
   "file_extension": ".py",
   "mimetype": "text/x-python",
   "name": "python",
   "nbconvert_exporter": "python",
   "pygments_lexer": "ipython3",
   "version": "3.6.7"
  }
 },
 "nbformat": 4,
 "nbformat_minor": 2
}
