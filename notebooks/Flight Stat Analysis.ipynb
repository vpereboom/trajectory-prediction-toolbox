{
 "cells": [
  {
   "cell_type": "code",
   "execution_count": null,
   "metadata": {},
   "outputs": [],
   "source": [
    "import pandas as pd\n",
    "import matplotlib.pyplot as plt\n",
    "import numpy as np\n",
    "import math\n",
    "import json\n",
    "from scipy import stats\n",
    "import psycopg2 as psql\n",
    "from psycopg2.extras import RealDictCursor\n",
    "\n",
    "import seaborn as sns\n",
    "sns.set(color_codes=True)"
   ]
  },
  {
   "cell_type": "code",
   "execution_count": null,
   "metadata": {},
   "outputs": [],
   "source": [
    "try:\n",
    "    conn = psql.connect(\"dbname='thesisdata' user='postgres' host='localhost' password='postgres'\")\n",
    "except Exception as e:\n",
    "    print(\"Unable to connect to the database.\")\n",
    "    print(e)\n",
    "\n",
    "max_inserts = 100\n",
    "fetch_batch_size = max_inserts\n",
    "cnt = 0\n",
    "\n",
    "cur_read = conn.cursor(cursor_factory=RealDictCursor)\n",
    "cur_read.execute(\"SELECT * FROM public.adsb_flights LIMIT 1000;\")"
   ]
  },
  {
   "cell_type": "code",
   "execution_count": 1,
   "metadata": {},
   "outputs": [
    {
     "ename": "SyntaxError",
     "evalue": "unexpected EOF while parsing (<ipython-input-1-8b33357a463f>, line 10)",
     "output_type": "error",
     "traceback": [
      "\u001b[0;36m  File \u001b[0;32m\"<ipython-input-1-8b33357a463f>\"\u001b[0;36m, line \u001b[0;32m10\u001b[0m\n\u001b[0;31m    for f in batch:\u001b[0m\n\u001b[0m                   ^\u001b[0m\n\u001b[0;31mSyntaxError\u001b[0m\u001b[0;31m:\u001b[0m unexpected EOF while parsing\n"
     ]
    }
   ],
   "source": [
    "fetch_batch_size = 200\n",
    "\n",
    "while True:\n",
    "    \n",
    "    batch = cur_read.fetchmany(size=fetch_batch_size)\n",
    "    \n",
    "    if not batch:\n",
    "        break\n",
    "    \n",
    "    for f in batch:"
   ]
  },
  {
   "cell_type": "code",
   "execution_count": null,
   "metadata": {},
   "outputs": [],
   "source": []
  }
 ],
 "metadata": {
  "kernelspec": {
   "display_name": "Python 3",
   "language": "python",
   "name": "python3"
  },
  "language_info": {
   "codemirror_mode": {
    "name": "ipython",
    "version": 3
   },
   "file_extension": ".py",
   "mimetype": "text/x-python",
   "name": "python",
   "nbconvert_exporter": "python",
   "pygments_lexer": "ipython3",
   "version": "3.6.5"
  }
 },
 "nbformat": 4,
 "nbformat_minor": 2
}
