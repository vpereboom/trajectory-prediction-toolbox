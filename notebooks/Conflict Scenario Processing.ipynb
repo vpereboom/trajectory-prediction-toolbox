{
 "cells": [
  {
   "cell_type": "code",
   "execution_count": 42,
   "metadata": {},
   "outputs": [],
   "source": [
    "import pandas as pd\n",
    "import matplotlib.pyplot as plt\n",
    "import numpy as np\n",
    "import math\n",
    "import json\n",
    "from scipy import stats\n",
    "import psycopg2 as psql\n",
    "from psycopg2.extras import RealDictCursor\n",
    "\n",
    "import seaborn as sns\n",
    "sns.set(color_codes=True)"
   ]
  },
  {
   "cell_type": "code",
   "execution_count": 45,
   "metadata": {},
   "outputs": [
    {
     "ename": "TypeError",
     "evalue": "must be real number, not str",
     "output_type": "error",
     "traceback": [
      "\u001b[0;31m---------------------------------------------------------------------------\u001b[0m",
      "\u001b[0;31mTypeError\u001b[0m                                 Traceback (most recent call last)",
      "\u001b[0;32m<ipython-input-45-6deb46943bb8>\u001b[0m in \u001b[0;36m<module>\u001b[0;34m()\u001b[0m\n\u001b[1;32m     42\u001b[0m                 \u001b[0mf2crd\u001b[0m \u001b[0;34m=\u001b[0m \u001b[0mzip\u001b[0m\u001b[0;34m(\u001b[0m\u001b[0mf2\u001b[0m\u001b[0;34m[\u001b[0m\u001b[0;34m'lat'\u001b[0m\u001b[0;34m]\u001b[0m\u001b[0;34m,\u001b[0m \u001b[0mf2\u001b[0m\u001b[0;34m[\u001b[0m\u001b[0;34m'lon'\u001b[0m\u001b[0;34m]\u001b[0m\u001b[0;34m)\u001b[0m\u001b[0;34m\u001b[0m\u001b[0m\n\u001b[1;32m     43\u001b[0m \u001b[0;34m\u001b[0m\u001b[0m\n\u001b[0;32m---> 44\u001b[0;31m                 \u001b[0mfi1\u001b[0m\u001b[0;34m,\u001b[0m \u001b[0mfi2\u001b[0m \u001b[0;34m=\u001b[0m \u001b[0mfind_flight_intersect\u001b[0m\u001b[0;34m(\u001b[0m\u001b[0mf1\u001b[0m\u001b[0;34m,\u001b[0m \u001b[0mf2\u001b[0m\u001b[0;34m)\u001b[0m\u001b[0;34m\u001b[0m\u001b[0m\n\u001b[0m\u001b[1;32m     45\u001b[0m                 \u001b[0mprint\u001b[0m\u001b[0;34m(\u001b[0m\u001b[0mfi1\u001b[0m\u001b[0;34m)\u001b[0m\u001b[0;34m\u001b[0m\u001b[0m\n\u001b[1;32m     46\u001b[0m \u001b[0;34m\u001b[0m\u001b[0m\n",
      "\u001b[0;32m<ipython-input-40-731297b538fe>\u001b[0m in \u001b[0;36mfind_flight_intersect\u001b[0;34m(f1, f2)\u001b[0m\n\u001b[1;32m    110\u001b[0m                 \u001b[0mba\u001b[0m \u001b[0;34m=\u001b[0m \u001b[0mbox_area\u001b[0m\u001b[0;34m(\u001b[0m\u001b[0mobox\u001b[0m\u001b[0;34m)\u001b[0m\u001b[0;34m\u001b[0m\u001b[0m\n\u001b[1;32m    111\u001b[0m             \u001b[0;32melse\u001b[0m\u001b[0;34m:\u001b[0m\u001b[0;34m\u001b[0m\u001b[0m\n\u001b[0;32m--> 112\u001b[0;31m                 \u001b[0mba\u001b[0m \u001b[0;34m=\u001b[0m \u001b[0mbox_area\u001b[0m\u001b[0;34m(\u001b[0m\u001b[0mobox\u001b[0m\u001b[0;34m)\u001b[0m\u001b[0;34m\u001b[0m\u001b[0m\n\u001b[0m\u001b[1;32m    113\u001b[0m \u001b[0;34m\u001b[0m\u001b[0m\n\u001b[1;32m    114\u001b[0m             \u001b[0;32mif\u001b[0m \u001b[0mba_old\u001b[0m\u001b[0;34m:\u001b[0m\u001b[0;34m\u001b[0m\u001b[0m\n",
      "\u001b[0;32m<ipython-input-40-731297b538fe>\u001b[0m in \u001b[0;36mbox_area\u001b[0;34m(box)\u001b[0m\n\u001b[1;32m     64\u001b[0m \u001b[0;32mdef\u001b[0m \u001b[0mbox_area\u001b[0m\u001b[0;34m(\u001b[0m\u001b[0mbox\u001b[0m\u001b[0;34m)\u001b[0m\u001b[0;34m:\u001b[0m\u001b[0;34m\u001b[0m\u001b[0m\n\u001b[1;32m     65\u001b[0m \u001b[0;34m\u001b[0m\u001b[0m\n\u001b[0;32m---> 66\u001b[0;31m     \u001b[0mw\u001b[0m \u001b[0;34m=\u001b[0m \u001b[0mcalc_coord_dst_simple\u001b[0m\u001b[0;34m(\u001b[0m\u001b[0;34m[\u001b[0m\u001b[0mbox\u001b[0m\u001b[0;34m[\u001b[0m\u001b[0;36m0\u001b[0m\u001b[0;34m]\u001b[0m\u001b[0;34m,\u001b[0m\u001b[0mbox\u001b[0m\u001b[0;34m[\u001b[0m\u001b[0;36m2\u001b[0m\u001b[0;34m]\u001b[0m\u001b[0;34m]\u001b[0m\u001b[0;34m,\u001b[0m\u001b[0;34m[\u001b[0m\u001b[0mbox\u001b[0m\u001b[0;34m[\u001b[0m\u001b[0;36m1\u001b[0m\u001b[0;34m]\u001b[0m\u001b[0;34m,\u001b[0m\u001b[0mbox\u001b[0m\u001b[0;34m[\u001b[0m\u001b[0;36m2\u001b[0m\u001b[0;34m]\u001b[0m\u001b[0;34m]\u001b[0m\u001b[0;34m)\u001b[0m\u001b[0;34m\u001b[0m\u001b[0m\n\u001b[0m\u001b[1;32m     67\u001b[0m     \u001b[0mh\u001b[0m \u001b[0;34m=\u001b[0m \u001b[0mcalc_coord_dst_simple\u001b[0m\u001b[0;34m(\u001b[0m\u001b[0;34m[\u001b[0m\u001b[0mbox\u001b[0m\u001b[0;34m[\u001b[0m\u001b[0;36m0\u001b[0m\u001b[0;34m]\u001b[0m\u001b[0;34m,\u001b[0m\u001b[0mbox\u001b[0m\u001b[0;34m[\u001b[0m\u001b[0;36m2\u001b[0m\u001b[0;34m]\u001b[0m\u001b[0;34m]\u001b[0m\u001b[0;34m,\u001b[0m\u001b[0;34m[\u001b[0m\u001b[0mbox\u001b[0m\u001b[0;34m[\u001b[0m\u001b[0;36m0\u001b[0m\u001b[0;34m]\u001b[0m\u001b[0;34m,\u001b[0m\u001b[0mbox\u001b[0m\u001b[0;34m[\u001b[0m\u001b[0;36m3\u001b[0m\u001b[0;34m]\u001b[0m\u001b[0;34m]\u001b[0m\u001b[0;34m)\u001b[0m\u001b[0;34m\u001b[0m\u001b[0m\n\u001b[1;32m     68\u001b[0m \u001b[0;34m\u001b[0m\u001b[0m\n",
      "\u001b[0;32m<ipython-input-40-731297b538fe>\u001b[0m in \u001b[0;36mcalc_coord_dst_simple\u001b[0;34m(c1, c2)\u001b[0m\n\u001b[1;32m     30\u001b[0m     \u001b[0mlat2\u001b[0m \u001b[0;34m=\u001b[0m \u001b[0mc2\u001b[0m\u001b[0;34m[\u001b[0m\u001b[0;36m1\u001b[0m\u001b[0;34m]\u001b[0m\u001b[0;34m\u001b[0m\u001b[0m\n\u001b[1;32m     31\u001b[0m \u001b[0;34m\u001b[0m\u001b[0m\n\u001b[0;32m---> 32\u001b[0;31m     \u001b[0;34m[\u001b[0m\u001b[0mlon1\u001b[0m\u001b[0;34m,\u001b[0m \u001b[0mlat1\u001b[0m\u001b[0;34m,\u001b[0m \u001b[0mlon2\u001b[0m\u001b[0;34m,\u001b[0m \u001b[0mlat2\u001b[0m\u001b[0;34m]\u001b[0m \u001b[0;34m=\u001b[0m \u001b[0;34m[\u001b[0m\u001b[0mmath\u001b[0m\u001b[0;34m.\u001b[0m\u001b[0mradians\u001b[0m\u001b[0;34m(\u001b[0m\u001b[0ml\u001b[0m\u001b[0;34m)\u001b[0m \u001b[0;32mfor\u001b[0m \u001b[0ml\u001b[0m \u001b[0;32min\u001b[0m \u001b[0;34m[\u001b[0m\u001b[0mlon1\u001b[0m\u001b[0;34m,\u001b[0m \u001b[0mlat1\u001b[0m\u001b[0;34m,\u001b[0m \u001b[0mlon2\u001b[0m\u001b[0;34m,\u001b[0m \u001b[0mlat2\u001b[0m\u001b[0;34m]\u001b[0m\u001b[0;34m]\u001b[0m\u001b[0;34m\u001b[0m\u001b[0m\n\u001b[0m\u001b[1;32m     33\u001b[0m \u001b[0;34m\u001b[0m\u001b[0m\n\u001b[1;32m     34\u001b[0m     \u001b[0mdlon\u001b[0m \u001b[0;34m=\u001b[0m \u001b[0mlon2\u001b[0m \u001b[0;34m-\u001b[0m \u001b[0mlon1\u001b[0m\u001b[0;34m\u001b[0m\u001b[0m\n",
      "\u001b[0;32m<ipython-input-40-731297b538fe>\u001b[0m in \u001b[0;36m<listcomp>\u001b[0;34m(.0)\u001b[0m\n\u001b[1;32m     30\u001b[0m     \u001b[0mlat2\u001b[0m \u001b[0;34m=\u001b[0m \u001b[0mc2\u001b[0m\u001b[0;34m[\u001b[0m\u001b[0;36m1\u001b[0m\u001b[0;34m]\u001b[0m\u001b[0;34m\u001b[0m\u001b[0m\n\u001b[1;32m     31\u001b[0m \u001b[0;34m\u001b[0m\u001b[0m\n\u001b[0;32m---> 32\u001b[0;31m     \u001b[0;34m[\u001b[0m\u001b[0mlon1\u001b[0m\u001b[0;34m,\u001b[0m \u001b[0mlat1\u001b[0m\u001b[0;34m,\u001b[0m \u001b[0mlon2\u001b[0m\u001b[0;34m,\u001b[0m \u001b[0mlat2\u001b[0m\u001b[0;34m]\u001b[0m \u001b[0;34m=\u001b[0m \u001b[0;34m[\u001b[0m\u001b[0mmath\u001b[0m\u001b[0;34m.\u001b[0m\u001b[0mradians\u001b[0m\u001b[0;34m(\u001b[0m\u001b[0ml\u001b[0m\u001b[0;34m)\u001b[0m \u001b[0;32mfor\u001b[0m \u001b[0ml\u001b[0m \u001b[0;32min\u001b[0m \u001b[0;34m[\u001b[0m\u001b[0mlon1\u001b[0m\u001b[0;34m,\u001b[0m \u001b[0mlat1\u001b[0m\u001b[0;34m,\u001b[0m \u001b[0mlon2\u001b[0m\u001b[0;34m,\u001b[0m \u001b[0mlat2\u001b[0m\u001b[0;34m]\u001b[0m\u001b[0;34m]\u001b[0m\u001b[0;34m\u001b[0m\u001b[0m\n\u001b[0m\u001b[1;32m     33\u001b[0m \u001b[0;34m\u001b[0m\u001b[0m\n\u001b[1;32m     34\u001b[0m     \u001b[0mdlon\u001b[0m \u001b[0;34m=\u001b[0m \u001b[0mlon2\u001b[0m \u001b[0;34m-\u001b[0m \u001b[0mlon1\u001b[0m\u001b[0;34m\u001b[0m\u001b[0m\n",
      "\u001b[0;31mTypeError\u001b[0m: must be real number, not str"
     ]
    }
   ],
   "source": [
    "try:\n",
    "    conn = psql.connect(\"dbname='thesisdata' user='postgres' host='localhost' password='postgres'\")\n",
    "except Exception as e:\n",
    "    print(\"Unable to connect to the database.\")\n",
    "    print(e)\n",
    "\n",
    "max_inserts = 100\n",
    "fetch_batch_size = max_inserts\n",
    "cnt = 0\n",
    "\n",
    "cur_read = conn.cursor(cursor_factory=RealDictCursor)\n",
    "cur_read.execute(\"SELECT * FROM public.adsb_flights WHERE flight_length > 1000 LIMIT 2;\")\n",
    "\n",
    "fetch_batch_size = 200\n",
    "ts_offset = 3600\n",
    "max_dst = 5*1852\n",
    "\n",
    "f_list = []\n",
    "while True:\n",
    "    \n",
    "    batch = cur_read.fetchall()\n",
    "    \n",
    "    if not batch:\n",
    "        break\n",
    "    \n",
    "    for f1 in batch:\n",
    "        \n",
    "        fl1_start_ep = f1['start_ep']\n",
    "        \n",
    "        cur_read_2 = conn.cursor(cursor_factory=RealDictCursor)\n",
    "        cur_read_2.execute(\"SELECT * FROM public.adsb_flights WHERE start_ep BETWEEN %s AND %s LIMIT 10;\",(fl1_start_ep - ts_offset, fl1_start_ep + ts_offset))\n",
    "        \n",
    "        while True:\n",
    "    \n",
    "            batch_2 = cur_read_2.fetchall()\n",
    "\n",
    "            if not batch_2:\n",
    "                break\n",
    "\n",
    "            for f2 in batch_2:\n",
    "                f1crd = zip(f1['lat'], f1['lon'])\n",
    "                f2crd = zip(f2['lat'], f2['lon'])\n",
    "                \n",
    "                fi1, fi2 = find_flight_intersect(f1, f2)\n",
    "                print(fi1)\n",
    "                \n",
    "                if fi1:\n",
    "                    d, c1, c2, i1, i2 = closest_distance(list(fi1), list(fi2))\n",
    "                \n",
    "                else:\n",
    "                    print(\"No intersection\")\n",
    "                    \n",
    "                tdiff = abs(fi1['ts'][i1] - fi2['ts'][i2])\n",
    "                if d < max_dst:\n",
    "                    print((d, c1, c2))\n",
    "                    print(tdiff)\n",
    "        \n",
    "#         f_list.append(f)\n",
    "\n",
    "cur_read.close()\n",
    "cur_read_2.close() "
   ]
  },
  {
   "cell_type": "code",
   "execution_count": 40,
   "metadata": {},
   "outputs": [],
   "source": [
    "def create_bounding_box(f):\n",
    "    fuz = list(zip(*f))\n",
    "    \n",
    "    return [min(fuz[0]), max(fuz[0]), min(fuz[1]), max(fuz[1])]\n",
    "\n",
    "\n",
    "def find_box_overlap(b1, b2):\n",
    "    \n",
    "    if (b1[0] <= b2[1]) & (b1[1] <= b2[0]) or (b1[2] <= b2[3]) & (b1[3] <= b2[2]):\n",
    "        return None\n",
    "    \n",
    "    else:\n",
    "        return [max([b1[0],b2[0]]), min([b1[1],b2[1]]), max([b1[2],b2[2]]), min([b1[3],b2[3]])]\n",
    "    \n",
    "    \n",
    "def resample_flight(box, f):\n",
    "    \"\"\"Flights should be zipped list like zip(lat,lon)\"\"\"\n",
    "    \n",
    "    f_res = [(lat,lon) for lat,lon in f if (box[0] <= lat <= box[1]) & (box[2] <= lon <= box[3])]\n",
    "    \n",
    "    return f_res\n",
    "\n",
    "\n",
    "def calc_coord_dst_simple(c1, c2):\n",
    "    R = 6371.1 * 1000  # Radius of the Earth in m\n",
    "\n",
    "    lon1 = c1[0]\n",
    "    lat1 = c1[1]\n",
    "    lon2 = c2[0]\n",
    "    lat2 = c2[1]\n",
    "\n",
    "    [lon1, lat1, lon2, lat2] = [math.radians(l) for l in [lon1, lat1, lon2, lat2]]\n",
    "\n",
    "    dlon = lon2 - lon1\n",
    "    dlat = lat2 - lat1\n",
    "\n",
    "    x = dlon * math.cos(dlat / 2)\n",
    "    y = dlat\n",
    "    d = math.sqrt(x * x + y * y) * R\n",
    "\n",
    "    return d\n",
    "\n",
    "\n",
    "def calc_coord_dst(c1, c2):\n",
    "    R = 6371.1 * 1000  # Radius of the Earth in m\n",
    "\n",
    "    lat1 = c1[0]\n",
    "    lon1 = c1[1]\n",
    "    lat2 = c2[0]\n",
    "    lon2 = c2[1]\n",
    "\n",
    "    [lon1, lat1, lon2, lat2] = [math.radians(l) for l in [lon1, lat1, lon2, lat2]]\n",
    "\n",
    "    dlon = lon2 - lon1\n",
    "    dlat = lat2 - lat1\n",
    "\n",
    "    a = math.sin(dlat / 2) ** 2 + math.cos(lat1) * math.cos(lat2) * math.sin(dlon / 2) ** 2\n",
    "    c = 2 * math.atan2(math.sqrt(a), math.sqrt(1 - a))\n",
    "\n",
    "    d = R * c\n",
    "    return d\n",
    "\n",
    "\n",
    "def box_area(box):\n",
    "    \n",
    "    w = calc_coord_dst_simple([box[0],box[2]],[box[1],box[2]])\n",
    "    h = calc_coord_dst_simple([box[0],box[2]],[box[0],box[3]])\n",
    "    \n",
    "    return w*h\n",
    "\n",
    "\n",
    "def closest_distance(f1, f2):\n",
    "    \"\"\"Flights should be zipped list like zip(lat,lon)\"\"\"\n",
    "    \n",
    "    x = [[np.sqrt((c1[0]-c2[0])**2 + (c1[1]-c2[1])**2) for c1 in f1] for c2 in f2]\n",
    "    dmin = np.nanmin(x)\n",
    "    if2, if1 = np.where(x == dmin)\n",
    "    \n",
    "    c2 = f2[if2[0]]\n",
    "    c1 = f1[if1[0]]\n",
    "    dmin_m = calc_coord_dst(c1, c2)\n",
    "    \n",
    "    return dmin_m, c1, c2, if1[0], if2[0]\n",
    "\n",
    "\n",
    "def dst_aligned_times(f1, f2):\n",
    "    \"\"\"Flights should be zipped list like zip(lat,lon,ts)\"\"\"\n",
    "    \n",
    "    t = [[abs(c1[2]-c2[2]) for c1 in f1] for c2 in f2]\n",
    "    tmin = np.nanmin(t)\n",
    "    if2, if1 = np.where(t == tmin)\n",
    "    \n",
    "    \n",
    "def find_flight_intersect(f1, f2):\n",
    "    \n",
    "    cnd = True\n",
    "    first_it = True\n",
    "    area_cnd= 0.95\n",
    "    \n",
    "    while cnd:\n",
    "        f1_box = create_bounding_box(f1)\n",
    "        f2_box = create_bounding_box(f2)\n",
    "\n",
    "        obox = find_box_overlap(f1_box, f2_box)\n",
    "\n",
    "        if obox:\n",
    "            \n",
    "            if not first_it:\n",
    "                ba_old = ba\n",
    "                ba = box_area(obox)\n",
    "            else:\n",
    "                ba = box_area(obox)\n",
    "                \n",
    "            if ba_old:\n",
    "                if ba/ba_old > area_cnd:\n",
    "                    return f1, f2\n",
    "                \n",
    "                else:\n",
    "                    \n",
    "                    f1 = resample_flight(obox, f1)\n",
    "                    f2 = resample_flight(obox, f2)\n",
    "            else:\n",
    "                    \n",
    "                f1 = resample_flight(obox, f1)\n",
    "                f2 = resample_flight(obox, f2)\n",
    "        \n",
    "        first_it = False\n",
    "        \n",
    "        if len(f1) < 20:\n",
    "            cnd = False\n",
    "\n",
    "        else:\n",
    "            return None, None\n",
    "        \n",
    "    return f1, f2\n",
    "    "
   ]
  },
  {
   "cell_type": "code",
   "execution_count": 3,
   "metadata": {},
   "outputs": [
    {
     "ename": "NameError",
     "evalue": "name 'closest_distance' is not defined",
     "output_type": "error",
     "traceback": [
      "\u001b[0;31m---------------------------------------------------------------------------\u001b[0m",
      "\u001b[0;31mNameError\u001b[0m                                 Traceback (most recent call last)",
      "\u001b[0;32m<ipython-input-3-65d985b00422>\u001b[0m in \u001b[0;36m<module>\u001b[0;34m()\u001b[0m\n\u001b[1;32m      5\u001b[0m \u001b[0mx2\u001b[0m \u001b[0;34m=\u001b[0m \u001b[0;34m[\u001b[0m\u001b[0;34m(\u001b[0m\u001b[0mrandom\u001b[0m\u001b[0;34m.\u001b[0m\u001b[0mrandint\u001b[0m\u001b[0;34m(\u001b[0m\u001b[0;36m1\u001b[0m\u001b[0;34m,\u001b[0m \u001b[0;36m10\u001b[0m\u001b[0;34m)\u001b[0m\u001b[0;34m,\u001b[0m\u001b[0mrandom\u001b[0m\u001b[0;34m.\u001b[0m\u001b[0mrandint\u001b[0m\u001b[0;34m(\u001b[0m\u001b[0;36m7\u001b[0m\u001b[0;34m,\u001b[0m \u001b[0;36m10\u001b[0m\u001b[0;34m)\u001b[0m\u001b[0;34m)\u001b[0m \u001b[0;32mfor\u001b[0m \u001b[0mi\u001b[0m \u001b[0;32min\u001b[0m \u001b[0mrange\u001b[0m\u001b[0;34m(\u001b[0m\u001b[0;36m1000\u001b[0m\u001b[0;34m)\u001b[0m\u001b[0;34m]\u001b[0m\u001b[0;34m\u001b[0m\u001b[0m\n\u001b[1;32m      6\u001b[0m \u001b[0;34m\u001b[0m\u001b[0m\n\u001b[0;32m----> 7\u001b[0;31m \u001b[0mclosest_distance\u001b[0m\u001b[0;34m(\u001b[0m\u001b[0mx1\u001b[0m\u001b[0;34m,\u001b[0m \u001b[0mx2\u001b[0m\u001b[0;34m)\u001b[0m\u001b[0;34m\u001b[0m\u001b[0m\n\u001b[0m",
      "\u001b[0;31mNameError\u001b[0m: name 'closest_distance' is not defined"
     ]
    }
   ],
   "source": [
    "import random\n",
    "print \n",
    "\n",
    "x1 = [(random.randint(11, 20),random.randint(11, 20)) for i in range(1000)]\n",
    "x2 = [(random.randint(1, 10),random.randint(7, 10)) for i in range(1000)]\n",
    "\n",
    "closest_distance(x1, x2)"
   ]
  },
  {
   "cell_type": "code",
   "execution_count": 37,
   "metadata": {},
   "outputs": [],
   "source": [
    "import random\n",
    "x1 = [random.randint(11, 20) for i in range(10)]\n",
    "x2 = [random.randint(1, 10) for i in range(10)]\n",
    "x = zip(x1,x2)"
   ]
  },
  {
   "cell_type": "code",
   "execution_count": 38,
   "metadata": {},
   "outputs": [],
   "source": [
    "l = list(zip(*x))"
   ]
  },
  {
   "cell_type": "code",
   "execution_count": 39,
   "metadata": {},
   "outputs": [
    {
     "data": {
      "text/plain": [
       "(12, 14, 12, 19, 20, 15, 12, 20, 12, 20)"
      ]
     },
     "execution_count": 39,
     "metadata": {},
     "output_type": "execute_result"
    }
   ],
   "source": [
    "l[0]"
   ]
  },
  {
   "cell_type": "code",
   "execution_count": 36,
   "metadata": {},
   "outputs": [
    {
     "data": {
      "text/plain": [
       "(13, 19, 16, 12, 18, 16, 11, 18, 13, 13)"
      ]
     },
     "execution_count": 36,
     "metadata": {},
     "output_type": "execute_result"
    }
   ],
   "source": [
    "d"
   ]
  },
  {
   "cell_type": "code",
   "execution_count": null,
   "metadata": {},
   "outputs": [],
   "source": []
  }
 ],
 "metadata": {
  "kernelspec": {
   "display_name": "Python 3",
   "language": "python",
   "name": "python3"
  },
  "language_info": {
   "codemirror_mode": {
    "name": "ipython",
    "version": 3
   },
   "file_extension": ".py",
   "mimetype": "text/x-python",
   "name": "python",
   "nbconvert_exporter": "python",
   "pygments_lexer": "ipython3",
   "version": "3.6.5"
  }
 },
 "nbformat": 4,
 "nbformat_minor": 2
}
