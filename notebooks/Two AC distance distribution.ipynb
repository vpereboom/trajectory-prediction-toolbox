{
 "cells": [
  {
   "cell_type": "code",
   "execution_count": 1,
   "metadata": {},
   "outputs": [
    {
     "name": "stderr",
     "output_type": "stream",
     "text": [
      "WARNING (theano.tensor.blas): Using NumPy C-API based implementation for BLAS functions.\n",
      "/home/victor/.local/lib/python3.6/site-packages/psycopg2/__init__.py:144: UserWarning: The psycopg2 wheel package will be renamed from release 2.8; in order to keep installing from binary please use \"pip install psycopg2-binary\" instead. For details see: <http://initd.org/psycopg/docs/install.html#binary-install-from-pypi>.\n",
      "  \"\"\")\n"
     ]
    }
   ],
   "source": [
    "import pandas as pd\n",
    "import matplotlib.pyplot as plt\n",
    "import numpy as np\n",
    "import pymc3 as pm\n",
    "import math\n",
    "import json\n",
    "from scipy.stats import gaussian_kde\n",
    "\n",
    "import psycopg2 as psql\n",
    "from psycopg2.extras import RealDictCursor\n",
    "from statsmodels.nonparametric.kde import KDEUnivariate\n",
    "\n",
    "import sys\n",
    "sys.path.append(\"..\")\n",
    "from tools.flight_projection import *\n",
    "from tools.flight_conflict_processor import filter_adsb_gaps\n",
    "from tools.conflict_handling import gamma_angle, get_ac_distance_time, get_dx_dy, get_delta_dst, load_obj, get_delta_dst_t\n",
    "\n",
    "import seaborn as sns\n",
    "sns.set(color_codes=True)"
   ]
  },
  {
   "cell_type": "code",
   "execution_count": 2,
   "metadata": {},
   "outputs": [],
   "source": [
    "try:\n",
    "    conn = psql.connect(\"dbname='thesisdata' user='postgres' host='localhost' password='postgres'\")\n",
    "except Exception as e:\n",
    "    print(\"Unable to connect to the database.\")\n",
    "    print(e)"
   ]
  },
  {
   "cell_type": "code",
   "execution_count": 3,
   "metadata": {},
   "outputs": [],
   "source": [
    "def sample_dst_kde(kde,hdg,dst_space,pct):\n",
    "    \n",
    "    gs = 50\n",
    "    pdf = kde(np.array([[hdg]*gs,[v for v in dst_space]]))\n",
    "    pdf_zip = list(zip(dst_space,np.cumsum(pdf)/max(np.cumsum(pdf))))\n",
    "    \n",
    "    pct_low = [(d,p) for (d,p) in pdf_zip if p <= 0.5-pct][-1][0]\n",
    "    pct_high = [(d,p) for (d,p) in pdf_zip if p <= 0.5+pct][-1][0]\n",
    "    \n",
    "    return pct_low, pct_high"
   ]
  },
  {
   "cell_type": "code",
   "execution_count": null,
   "metadata": {},
   "outputs": [],
   "source": [
    "cur_read_1 = conn.cursor(cursor_factory=RealDictCursor)\n",
    "cur_read_1.execute(\"SELECT ts_1, ts_2, lat_1, lon_1, lat_2, lon_2, hdg_1, hdg_2, spd_1, spd_2 \\\n",
    "                FROM public.converging_flights limit 100;\")\n",
    "batch_1 = cur_read_1.fetchall()\n",
    "\n",
    "cur_read_2 = conn.cursor(cursor_factory=RealDictCursor)\n",
    "cur_read_2.execute(\"SELECT ts_1, ts_2, lat_1, lon_1, lat_2, lon_2, hdg_1, hdg_2, spd_1, spd_2 \\\n",
    "                FROM public.conflicts limit 500;\")\n",
    "batch_2 = cur_read_2.fetchall()\n",
    "\n",
    "batch_1.extend(batch_2)\n",
    "batch = batch_1\n",
    "\n",
    "cur_read_1.close()\n",
    "cur_read_2.close()"
   ]
  },
  {
   "cell_type": "code",
   "execution_count": 3,
   "metadata": {},
   "outputs": [],
   "source": [
    "cur_read = conn.cursor(cursor_factory=RealDictCursor)\n",
    "cur_read.execute(\"SELECT ts_1, ts_2, lat_1, lon_1, lat_2, lon_2, hdg_1, hdg_2, spd_1, spd_2 \\\n",
    "                FROM public.converging_flights limit 500;\")\n",
    "batch = cur_read.fetchall()"
   ]
  },
  {
   "cell_type": "code",
   "execution_count": 4,
   "metadata": {},
   "outputs": [
    {
     "name": "stdout",
     "output_type": "stream",
     "text": [
      "Preprocessing flights\n"
     ]
    }
   ],
   "source": [
    "def generate_rand_from_pdf(pdf, x_grid):\n",
    "    cdf = np.cumsum(pdf)\n",
    "    cdf = cdf / cdf[-1]\n",
    "    values = np.random.rand(10000)\n",
    "    value_bins = np.searchsorted(cdf, values)\n",
    "    random_from_cdf = x_grid[value_bins]\n",
    "    return random_from_cdf\n",
    "\n",
    "res_batch = []\n",
    "bin_dict = {}\n",
    "pdf_dict = {}\n",
    "\n",
    "la_time = 1200\n",
    "\n",
    "print('Preprocessing flights')\n",
    "\n",
    "for b in batch:\n",
    "\n",
    "    if len(b['ts_1']) != len(b['ts_2']):\n",
    "        print('Flights do not have same lengths')\n",
    "        continue\n",
    "\n",
    "    f_df = pd.DataFrame.from_dict(b)\n",
    "    if len(f_df) > 0:\n",
    "\n",
    "        dstc_lst = []\n",
    "        dst_lst = []\n",
    "\n",
    "        for i, r in f_df.iterrows():\n",
    "            dstc_lst.append(\n",
    "                get_delta_dst(r['lat_1'], r['lon_1'], r['lat_2'], r['lon_2'],\n",
    "                              r['hdg_1'], r['hdg_2'], r['spd_1'], r['spd_2']))\n",
    "\n",
    "            dst_lst.append(calc_coord_dst((r['lat_1'], r['lon_1']),\n",
    "                                          (r['lat_2'], r['lon_2'])))\n",
    "\n",
    "        f_df['dst_change_i'] = dstc_lst\n",
    "        f_df['dst'] = dst_lst\n",
    "\n",
    "        f_df = f_df.dropna(how='any')\n",
    "        f_df = f_df.reset_index(drop=True)\n",
    "\n",
    "        if len(f_df) > 0:\n",
    "            f_df['dst_change'] = [f_df['dst_change_i'].iloc[0]] * len(f_df)\n",
    "            f_df['dst_diff'] = f_df['dst'].iloc[0] - f_df['dst']\n",
    "            f_df['la_t'] = f_df['ts_1'] - f_df['ts_1'].iloc[0]\n",
    "            \n",
    "            delta_dst_t = []\n",
    "            \n",
    "            for i, rr in f_df.iterrows():\n",
    "                delta_dst_t.append(get_delta_dst_t(rr['lat_1'], rr['lon_1'], rr['lat_2'], rr['lon_2'],\n",
    "                                                   rr['hdg_1'], rr['hdg_2'], rr['spd_1'], rr['spd_2'], rr['la_t']))\n",
    "                                   \n",
    "            f_df['delta_dst_t'] = delta_dst_t\n",
    "                                   \n",
    "            f_df = f_df.dropna(how='any')\n",
    "            f_df = f_df.reset_index(drop=True)\n",
    "            \n",
    "            if len(f_df) > 0:\n",
    "                res_batch.append(f_df.to_dict(orient='list'))\n",
    "\n",
    "\n",
    "# Create a dictionary for each look-ahead time bin with\n",
    "# corresponding heading and distance difference values"
   ]
  },
  {
   "cell_type": "code",
   "execution_count": 5,
   "metadata": {
    "scrolled": false
   },
   "outputs": [
    {
     "name": "stdout",
     "output_type": "stream",
     "text": [
      "Creating value list\n"
     ]
    },
    {
     "data": {
      "image/png": "[encoded data removed]",
      "text/plain": [
       "<Figure size 720x720 with 1 Axes>"
      ]
     },
     "metadata": {},
     "output_type": "display_data"
    }
   ],
   "source": [
    "print('Creating value list')\n",
    "\n",
    "def distr_func(_d, _dct, _t):\n",
    "    return (_d - _dct) / (_dct * _t)\n",
    "\n",
    "dd_data_raw = []\n",
    "dd_data_raw_100 = []\n",
    "dd_data_raw_400 = []\n",
    "dd_data_raw_800 = []\n",
    "dd_data_raw_1000 = []\n",
    "dd_data_raw_x = []\n",
    "ts_l = []\n",
    "\n",
    "for f in res_batch:\n",
    "\n",
    "    dstd_lst = f['dst_diff']\n",
    "    dst_change = f['dst_change']\n",
    "    ts_lst = f['la_t']\n",
    "    delta_dst_t = f['delta_dst_t']\n",
    "\n",
    "#     dd_data_raw.extend([d / (dc * t) for d, dc, t in\n",
    "#                         zip(dstd_lst, dst_change, ts_lst) if dc*t != 0])\n",
    "    \n",
    "    dd_data_raw_100.extend([distr_func(d, dct, t) for d, dct, t in\n",
    "                        zip(dstd_lst, delta_dst_t, ts_lst) if dct != 0 and 200 < t < 400])\n",
    "    dd_data_raw_400.extend([distr_func(d, dct, t) for d, dct, t in\n",
    "                        zip(dstd_lst, delta_dst_t, ts_lst) if dct != 0 and 400 < t < 600])\n",
    "    dd_data_raw_800.extend([distr_func(d, dct, t) for d, dct, t in\n",
    "                        zip(dstd_lst, delta_dst_t, ts_lst) if dct != 0 and 600 < t < 800])\n",
    "    dd_data_raw_1000.extend([distr_func(d, dct, t) for d, dct, t in\n",
    "                        zip(dstd_lst, delta_dst_t, ts_lst) if dct != 0 and 800 < t < 1000])\n",
    "    \n",
    "    dd_data_raw_x.extend([distr_func(d, dct, t) for d, dct, t in\n",
    "                        zip(dstd_lst, delta_dst_t, ts_lst) if dct != 0])\n",
    "    ts_l.extend([t for d, dct, t in\n",
    "                        zip(dstd_lst, delta_dst_t, ts_lst) if dct != 0])\n",
    "\n",
    "fig = plt.figure(figsize=(10,10))\n",
    "cs = ['r','b','k','g','m']\n",
    "label_set = ['Look-ahead times: 200 < t < 400 (s)', 'Look-ahead times: 400 < t < 600 (s)', \n",
    "          'Look-ahead times: 600 < t < 800 (s)', 'Look-ahead times: 800 < t < 1000 (s)', 'Look-ahead times: all']\n",
    "flen = 20000\n",
    "for i, dd_data_raw in enumerate([dd_data_raw_100[:flen], dd_data_raw_400[:flen], \n",
    "                                 dd_data_raw_800[:flen], dd_data_raw_1000[:flen], dd_data_raw_x[:flen]]):\n",
    "#     dd_data_raw = \n",
    "    dd_data_p = np.percentile(dd_data_raw, 99.5)\n",
    "    dd_data_filt = [v for v in dd_data_raw if abs(v) < dd_data_p]\n",
    "\n",
    "    x_grid = np.linspace(min(dd_data_filt), max(dd_data_filt), 1000)\n",
    "    kde = gaussian_kde(dd_data_filt)#, bw_method=0.1)\n",
    "    kdepdf = kde.evaluate(x_grid)\n",
    "    random_from_kde = generate_rand_from_pdf(kdepdf, x_grid)\n",
    "\n",
    "    \n",
    "#     plt.hist(dd_data_filt,density=False, bins=400)\n",
    "    # plt.hist(random_from_kde, 500, normed=True, alpha=0.5, label='hist')\n",
    "    plt.plot(x_grid, kdepdf/max(kdepdf), color=cs[i], linewidth=2, label=label_set[i])\n",
    "\n",
    "# plt.xlim(-1,1)\n",
    "dd_data_p80 = np.percentile(dd_data_raw, 97)\n",
    "plt.xlim(-dd_data_p80, dd_data_p80)\n",
    "plt.xlabel('$D_{ac1/ac2_{error}}$')\n",
    "plt.ylabel('Probability Density')\n",
    "plt.title(\"Distribution of $D_{ac1/ac2_{error}}$ for different look-ahead times\")\n",
    "plt.legend(loc='best', prop={'size': 10})\n",
    "plt.show()\n",
    "\n",
    "# Create final dictionary\n",
    "\n",
    "pct_dict = {}\n",
    "cdf_list = list(zip(x_grid, np.cumsum(kdepdf)/np.cumsum(kdepdf)[-1]))\n",
    "for p in range(1, 100):\n",
    "    pct_dict[str(p)] = [v[0] for v in cdf_list if v[1] <= p/100][-1]"
   ]
  },
  {
   "cell_type": "code",
   "execution_count": 6,
   "metadata": {
    "scrolled": false
   },
   "outputs": [
    {
     "data": {
      "text/plain": [
       "(-100, 100)"
      ]
     },
     "execution_count": 6,
     "metadata": {},
     "output_type": "execute_result"
    },
    {
     "data": {
      "image/png": "[encoded data removed]",
      "text/plain": [
       "<Figure size 2160x2160 with 1 Axes>"
      ]
     },
     "metadata": {},
     "output_type": "display_data"
    }
   ],
   "source": [
    "plt.figure(figsize=(30,30))\n",
    "plt.scatter(ts_l, dd_data_raw_x)\n",
    "plt.xlim(0,1200)\n",
    "plt.ylim(-100,100)"
   ]
  },
  {
   "cell_type": "code",
   "execution_count": null,
   "metadata": {},
   "outputs": [],
   "source": [
    "\n",
    "\n",
    "res_batch = []\n",
    "\n",
    "for b in batch:\n",
    "    \n",
    "#     print(b.keys())\n",
    "    filter_flag = 0\n",
    "\n",
    "    if filter_flag == 1:\n",
    "        ix = filter_adsb_gaps(b['ts_1'])\n",
    "        if not ix:\n",
    "            ix = (0, -1)\n",
    "    else:\n",
    "        ix = (0, -1)\n",
    "\n",
    "    for k in b.keys():\n",
    "        if '_1' in k:\n",
    "            b[k] = b[k][ix[0]:ix[1]]\n",
    "        if '_2' in k:\n",
    "            b[k] = b[k][ix[0]:ix[1]]\n",
    "\n",
    "    if len(b['ts_1']) != len(b['ts_2']):\n",
    "        print('Flights do not have same lengths')\n",
    "        continue\n",
    "\n",
    "    f_df = pd.DataFrame.from_dict(b)\n",
    "    if len(f_df) > 0:\n",
    "        f_df['spd_diff'] = f_df['spd_1'] - f_df['spd_2']\n",
    "        \n",
    "#         f_df = f_df.drop_duplicates(['lat_1', 'lon_1'])\n",
    "#         f_df = f_df.drop_duplicates(['lat_2', 'lon_2'])\n",
    "#         f_df = f_df.reset_index(drop=True)\n",
    "\n",
    "        dstc_lst = []\n",
    "        hdg_diff_lst = []\n",
    "        dst_lst = []\n",
    "\n",
    "        for i,r in f_df.iterrows():\n",
    "            dstc_lst.append(get_delta_dst(r['lat_1'], r['lon_1'],r['lat_2'],r['lon_2'],r['hdg_1'], r['hdg_2'], r['spd_1'], r['spd_2']))\n",
    "\n",
    "            _g, _a, _b = gamma_angle(r['lat_1'], r['lon_1'],r['lat_2'], \n",
    "                                          r['lon_2'],r['hdg_1'], r['hdg_2'])\n",
    "            hdg_diff_lst.append(_g)\n",
    "\n",
    "            dst_lst.append(calc_coord_dst((r['lat_1'], r['lon_1']),\n",
    "                                      (r['lat_2'], r['lon_2'])))\n",
    "\n",
    "        f_df['dst_change_i'] = dstc_lst\n",
    "        f_df['hdg_diff_i'] = hdg_diff_lst\n",
    "        f_df['dst'] = dst_lst\n",
    "\n",
    "        f_df = f_df.dropna(how='any')\n",
    "        f_df = f_df.reset_index(drop=True)\n",
    "\n",
    "        if len(f_df) > 0:\n",
    "            f_df['dst_change'] = [f_df['dst_change_i'].iloc[0]]*len(f_df)\n",
    "            f_df['hdg_diff'] = [f_df['hdg_diff_i'].iloc[0]]*len(f_df)\n",
    "            f_df['dst_diff'] = f_df['dst'] - f_df['dst'].iloc[0]\n",
    "            f_df['la_t'] = f_df['ts_1'] - f_df['ts_1'].iloc[0]\n",
    "\n",
    "    #         bi = f_df.to_dict(type='list')\n",
    "            res_batch.append(f_df.to_dict(orient='list'))"
   ]
  },
  {
   "cell_type": "code",
   "execution_count": null,
   "metadata": {},
   "outputs": [],
   "source": [
    "bin_dict = {}\n",
    "la_time = 1200\n",
    "bin_sec = 20\n",
    "\n",
    "for f in res_batch:\n",
    "        \n",
    "    hdgd_lst = f['hdg_diff']\n",
    "    hdgd_lst_i = f['hdg_diff_i']\n",
    "    dstd_lst = f['dst_diff']\n",
    "    dst_change = f['dst_change']\n",
    "    dst_change_i = f['dst_change_i']\n",
    "    spd_lst = f['spd_diff']\n",
    "    ts_lst = f['la_t']\n",
    "\n",
    "    for b in range(int(la_time/bin_sec)):\n",
    "        bmin = b*bin_sec\n",
    "        bmax = (b+1)*bin_sec\n",
    "        if str(bmax) not in list(bin_dict.keys()):\n",
    "            bin_dict[str(bmax)] = []\n",
    "\n",
    "        bin_dict[str(bmax)].extend([(h,d,dc,spd,t) for h,d,dc,spd,t in \n",
    "                                    zip(hdgd_lst_i, dstd_lst, dst_change, spd_lst, ts_lst) if t >= bmin and t <= bmax])"
   ]
  },
  {
   "cell_type": "code",
   "execution_count": null,
   "metadata": {
    "scrolled": false
   },
   "outputs": [],
   "source": [
    "def generate_rand_from_pdf(pdf, x_grid):\n",
    "    cdf = np.cumsum(pdf)\n",
    "    cdf = cdf / cdf[-1]\n",
    "    values = np.random.rand(10000)\n",
    "    value_bins = np.searchsorted(cdf, values)\n",
    "    random_from_cdf = x_grid[value_bins]\n",
    "    return random_from_cdf\n",
    "\n",
    "\n",
    "x_data_raw = []\n",
    "for la_ti in [i*20 for i in range(1,61)]:\n",
    "    x_data_raw.extend([v[1]/(v[4]*v[2]) for v in bin_dict['%d' % la_ti] if v[4]>0])\n",
    "\n",
    "x_data_p = np.percentile(x_data_raw,99.5)\n",
    "x_data_filt = [v for v in x_data_raw if abs(v) < x_data_p][:10000]\n",
    "print(len(x_data_filt))\n",
    "\n",
    "x_grid = np.linspace(min(x_data_filt), max(x_data_filt), 1000)\n",
    "kde = gaussian_kde(x_data_filt, bw_method=0.1)\n",
    "kdepdf = kde.evaluate(x_grid)\n",
    "random_from_kde = generate_rand_from_pdf(kdepdf, x_grid)\n",
    "\n",
    "fig = plt.figure(figsize=(20,20))\n",
    "plt.hist(x_data_filt,normed=True, bins=400)\n",
    "plt.hist(random_from_kde, 500, normed=True, alpha=0.5, label='hist')\n",
    "plt.plot(x_grid, kdepdf, color='r', alpha=0.5, label='kde')\n",
    "plt.show()"
   ]
  },
  {
   "cell_type": "code",
   "execution_count": null,
   "metadata": {},
   "outputs": [],
   "source": [
    "pct_dict = {}\n",
    "cdf_list = list(zip(x_grid,np.cumsum(kdepdf)/np.cumsum(kdepdf)[-1]))\n",
    "for p in range(1, 100):\n",
    "    pct_dict[str(p)] = [v[0] for v in cdf_list if v[1] <= p/100][-1]\n"
   ]
  },
  {
   "cell_type": "code",
   "execution_count": null,
   "metadata": {
    "scrolled": true
   },
   "outputs": [],
   "source": [
    "pct_dict"
   ]
  },
  {
   "cell_type": "code",
   "execution_count": null,
   "metadata": {},
   "outputs": [],
   "source": [
    "_pct_dict = load_obj(\"../tools/kde_dictionary.pkl\")\n",
    "_pct_dict"
   ]
  },
  {
   "cell_type": "code",
   "execution_count": null,
   "metadata": {
    "scrolled": true
   },
   "outputs": [],
   "source": [
    "pdf_dict = {}\n",
    "hdg_dst_dict = {}\n",
    "la_ti = 1200\n",
    "gsize=50\n",
    "\n",
    "for la_ti in [i*20 for i in range(1,61)]:\n",
    "    dstc_data_raw = [v[1] for v in bin_dict['%d' % la_ti]]\n",
    "    dst_data_raw = [v[0] for v in bin_dict['%d' % la_ti]]\n",
    "    if len(dstc_data_raw) == len(dst_data_raw):\n",
    "        \n",
    "        print('Creating kde for la %d' % la_ti)\n",
    "\n",
    "        dat = [v for v in list(zip(dstc_data_raw, dst_data_raw)) if\n",
    "               all(~np.isnan(vi) for vi in v)]\n",
    "\n",
    "        hl, dl = zip(*dat)\n",
    "        dstc_data_raw, dst_data_raw = (list(hl), list(dl))\n",
    "        data = np.vstack([dstc_data_raw, dst_data_raw])\n",
    "\n",
    "        kde = gaussian_kde(data, bw_method=0.1)\n",
    "\n",
    "        dst_space = np.linspace(min(dst_data_raw), max(dst_data_raw), gsize)\n",
    "\n",
    "        pdf_dict['%d' % la_ti] = kde"
   ]
  },
  {
   "cell_type": "code",
   "execution_count": null,
   "metadata": {},
   "outputs": [],
   "source": [
    "pdf_dict = {}\n",
    "hdg_dst_dict = {}\n",
    "la_ti = 1200\n",
    "gsize=200j\n",
    "\n",
    "dstc_data_raw = [v[1] for v in bin_dict['%d' % la_ti]]\n",
    "dst_data_raw = [v[0] for v in bin_dict['%d' % la_ti]]\n",
    "if len(dstc_data_raw) == len(dst_data_raw):\n",
    "\n",
    "    print('Creating kde for la %d' % la_ti)\n",
    "\n",
    "    dat = [v for v in list(zip(dstc_data_raw, dst_data_raw)) if\n",
    "           all(~np.isnan(vi) for vi in v)]\n",
    "\n",
    "    hl, dl = zip(*dat)\n",
    "    dstc_data_raw, dst_data_raw = (list(hl), list(dl))\n",
    "    data = np.vstack([dst_data_raw, dstc_data_raw])\n",
    "\n",
    "    kde = gaussian_kde(data, bw_method=0.2)\n",
    "\n",
    "#     dst_space = np.linspace(min(dst_data_raw), max(dst_data_raw), gsize)\n",
    "\n",
    "    pdf_dict['%d' % la_ti] = kde\n",
    "\n",
    "X, Y = np.mgrid[min(dst_data_raw):max(dst_data_raw):gsize, min(dstc_data_raw):max(dstc_data_raw):gsize]\n",
    "grid = np.vstack([X.ravel(),Y.ravel()])\n",
    "pdf = kde(grid)\n",
    "f = np.reshape(pdf.T, X.shape)\n",
    "\n",
    "fig = plt.figure(figsize=(20,20))\n",
    "ax = fig.gca()\n",
    "# ax.set_xlim(min(dst_data_raw), max(dst_data_raw))\n",
    "# ax.set_ylim(min(dstc_data_raw), max(dstc_data_raw))\n",
    "# Contourf plot\n",
    "\n",
    "cfset = ax.contourf(X, Y, f, cmap='Blues')"
   ]
  },
  {
   "cell_type": "code",
   "execution_count": null,
   "metadata": {},
   "outputs": [],
   "source": [
    "# X, Y = np.mgrid[min(hdg_data_raw):max(hdg_data_raw):gsize, min(dst_data_raw):max(dst_data_raw):gsize]\n",
    "# X, Y = np.mgrid[10, min(dst_data_raw):max(dst_data_raw):gsize]\n",
    "# grid = np.vstack([X.ravel(),Y.ravel()])\n",
    "dst_space = np.linspace(min(dst_data_raw),max(dst_data_raw),gsize)\n",
    "pdf = kde(np.array([[50]*gsize,[v for v in dst_space]]))\n",
    "# plt.plot(dst_space,pdf)\n",
    "np.percentile(pdf,60)\n",
    "# plt.plot(dst_space,np.cumsum(pdf)/max(np.cumsum(pdf)))\n",
    "# f = np.reshape(pdf.T, X.shape)\n",
    "#     pdf_dict[str(la_ti)] = kde"
   ]
  },
  {
   "cell_type": "code",
   "execution_count": null,
   "metadata": {
    "scrolled": true
   },
   "outputs": [],
   "source": [
    "fig = plt.figure(figsize=(20,20))\n",
    "ax = fig.gca()\n",
    "ax.set_ylim(min(dst_data_raw), max(dst_data_raw))\n",
    "ax.set_xlim(min(hdg_data_raw), max(hdg_data_raw))\n",
    "# Contourf plot\n",
    "\n",
    "cfset = ax.contourf(X, Y, f, cmap='Blues')"
   ]
  },
  {
   "cell_type": "code",
   "execution_count": null,
   "metadata": {},
   "outputs": [],
   "source": [
    "res_batch_f = [ri for ri in res_batch if any(v < -25000 for v in ri['dst_diff'])]\n",
    "print(len(res_batch_f))\n",
    "print(len(res_batch))"
   ]
  },
  {
   "cell_type": "code",
   "execution_count": null,
   "metadata": {
    "scrolled": true
   },
   "outputs": [],
   "source": [
    "from conf.config import ipz_range, knts_ms_ratio\n",
    "r = res_batch[25]\n",
    "\n",
    "print(r['hdg_1'][0])\n",
    "print(r['hdg_2'][0])\n",
    "print(r['dst'][0])\n",
    "# print(r['lat_1'][0], r['lon_1'][0],r['lat_2'][0], r['lon_2'][0])\n",
    "print(calc_compass_bearing((r['lat_1'][0], r['lon_1'][0]),(r['lat_2'][0], r['lon_2'][0])))\n",
    "# gamma_angle(r['lat_1'][0], r['lon_1'][0],r['lat_2'][0], r['lon_2'][0], r['hdg_1'][0], r['hdg_2'][0])\n",
    "\n",
    "gm, a, b = gamma_angle(r['lat_1'][0], r['lon_1'][0],r['lat_2'][0], r['lon_2'][0], r['hdg_1'][0], r['hdg_2'][0])\n",
    "print(a,b)\n",
    "dx1, dx2, dy1, dy2 = get_dx_dy(a, b, r['spd_1'][0], r['spd_2'][0])\n",
    "print(dx1, dx2, dy1, dy2)\n",
    "print(get_ac_distance_time(r['dst'][0],dx1, dx2, dy1, dy2,1) - r['dst'][0])\n",
    "print(get_ac_distance_time(r['dst'][0],dx1, dx2, dy1, dy2,(r['ts_1'][1] - r['ts_1'][0])) - r['dst'][0])\n",
    "print((r['dst'][0] - r['dst'][1])/(r['ts_1'][0] - r['ts_1'][1]))\n",
    "plt.figure(figsize=(20,20))\n",
    "plt.scatter(r['lon_1'], r['lat_1'])\n",
    "plt.scatter(r['lon_2'], r['lat_2'])\n",
    "plt.scatter(r['lon_1'][0], r['lat_1'][0],c='g')\n",
    "plt.scatter(r['lon_2'][0], r['lat_2'][0],c='g')\n",
    "plt.scatter(r['lon_1'][-1], r['lat_1'][-1],c='r')\n",
    "plt.scatter(r['lon_2'][-1], r['lat_2'][-1],c='r')\n",
    "plt.axis('scaled')\n",
    "plt.show()"
   ]
  },
  {
   "cell_type": "code",
   "execution_count": null,
   "metadata": {
    "scrolled": false
   },
   "outputs": [],
   "source": [
    "ri = res_batch[25]\n",
    "\n",
    "coord_dst = []\n",
    "for i in range(len(ri['lat_1'])):\n",
    "    coord_dst.append(calc_coord_dst((ri['lat_1'][i], ri['lon_1'][i]),\n",
    "                   (ri['lat_2'][i], ri['lon_2'][i])))\n",
    "\n",
    "plt.figure()\n",
    "plt.plot(ri['la_t'], ri['hdg_diff_i'])\n",
    "plt.show()\n",
    "\n",
    "plt.figure()\n",
    "plt.plot(ri['la_t'], ri['dst_diff'])\n",
    "plt.show()\n",
    "\n",
    "plt.figure()\n",
    "plt.plot(ri['la_t'], ri['dst_change_i'])\n",
    "plt.show()\n",
    "\n",
    "plt.figure()\n",
    "plt.plot(ri['la_t'], coord_dst)\n",
    "plt.show()\n",
    "\n",
    "plt.figure(figsize=(20,20))\n",
    "plt.scatter(ri['lon_1'], ri['lat_1'])\n",
    "plt.scatter(ri['lon_2'], ri['lat_2'])\n",
    "plt.scatter(ri['lon_1'][0], ri['lat_1'][0],c='g')\n",
    "plt.scatter(ri['lon_2'][0], ri['lat_2'][0],c='g')\n",
    "plt.scatter(ri['lon_1'][-1], ri['lat_1'][-1],c='r')\n",
    "plt.scatter(ri['lon_2'][-1], ri['lat_2'][-1],c='r')\n",
    "plt.show()"
   ]
  },
  {
   "cell_type": "code",
   "execution_count": null,
   "metadata": {},
   "outputs": [],
   "source": [
    "plt.scatter()"
   ]
  },
  {
   "cell_type": "code",
   "execution_count": null,
   "metadata": {},
   "outputs": [],
   "source": [
    "cur_read.close()"
   ]
  },
  {
   "cell_type": "code",
   "execution_count": null,
   "metadata": {},
   "outputs": [],
   "source": [
    "X, Y = np.mgrid[min(hdg_data_raw):max(hdg_data_raw):gsize, min(dst_data_raw):max(dst_data_raw):10j]\n",
    "grid = np.vstack([X.ravel(),Y.ravel()])\n",
    "grid"
   ]
  },
  {
   "cell_type": "code",
   "execution_count": null,
   "metadata": {},
   "outputs": [],
   "source": [
    "import time\n",
    "t = time.time()\n",
    "sample_dst_kde(kde, h, dst_space, 0.2)\n",
    "print(time.time() - t)"
   ]
  },
  {
   "cell_type": "code",
   "execution_count": null,
   "metadata": {},
   "outputs": [],
   "source": [
    "gsize=200\n",
    "kde = pdf_dict['20']\n",
    "dst_space = np.linspace(min(dst_data_raw),max(dst_data_raw),gsize)\n",
    "pdf = kde(np.array([[10]*gsize,[v for v in dst_space]]))\n",
    "\n",
    "plt.plot(dst_space,pdf)"
   ]
  },
  {
   "cell_type": "code",
   "execution_count": null,
   "metadata": {},
   "outputs": [],
   "source": [
    "grid"
   ]
  },
  {
   "cell_type": "code",
   "execution_count": null,
   "metadata": {},
   "outputs": [],
   "source": [
    "pdf"
   ]
  },
  {
   "cell_type": "code",
   "execution_count": 19,
   "metadata": {},
   "outputs": [
    {
     "data": {
      "text/plain": [
       "950.4735661763561"
      ]
     },
     "execution_count": 19,
     "metadata": {},
     "output_type": "execute_result"
    }
   ],
   "source": [
    "get_ac_distance_time(1000, 3, -2, 2, 5, 10)"
   ]
  },
  {
   "cell_type": "code",
   "execution_count": null,
   "metadata": {},
   "outputs": [],
   "source": [
    "600*(get_ac_distance_time(1000, 2, 3, 2.5, 3.5, 1) - 1000)"
   ]
  },
  {
   "cell_type": "code",
   "execution_count": 21,
   "metadata": {},
   "outputs": [
    {
     "data": {
      "text/plain": [
       "nan"
      ]
     },
     "execution_count": 21,
     "metadata": {},
     "output_type": "execute_result"
    }
   ],
   "source": [
    "s = 1000\n",
    "dx1 = 2\n",
    "dx2 = 3\n",
    "dy1 = 2.5\n",
    "dy2 = 3.5\n",
    "\n",
    "d = s\n",
    "dend = 950.4735\n",
    "X = (dx1 + dx2)\n",
    "Y = (dy1 - dy2)\n",
    "Z = d**2 + 2*X*Y - 2*d*Y + Y**2\n",
    "\n",
    "(2*d*X) - np.sqrt((4 * d**2 * X**2) - (4 * X**2 * (Z - dend))) / (2 * X**2)"
   ]
  },
  {
   "cell_type": "code",
   "execution_count": 26,
   "metadata": {},
   "outputs": [
    {
     "data": {
      "text/plain": [
       "nan"
      ]
     },
     "execution_count": 26,
     "metadata": {},
     "output_type": "execute_result"
    }
   ],
   "source": [
    "np.sqrt((4 * d**2 * X**2) - (4 * X**2 * (Z - dend)))"
   ]
  },
  {
   "cell_type": "code",
   "execution_count": 27,
   "metadata": {},
   "outputs": [
    {
     "data": {
      "text/plain": [
       "-104052.65000000596"
      ]
     },
     "execution_count": 27,
     "metadata": {},
     "output_type": "execute_result"
    }
   ],
   "source": [
    "(4 * d**2 * X**2) - (4 * X**2 * (Z - dend))"
   ]
  },
  {
   "cell_type": "code",
   "execution_count": null,
   "metadata": {},
   "outputs": [],
   "source": []
  }
 ],
 "metadata": {
  "kernelspec": {
   "display_name": "Python 3",
   "language": "python",
   "name": "python3"
  },
  "language_info": {
   "codemirror_mode": {
    "name": "ipython",
    "version": 3
   },
   "file_extension": ".py",
   "mimetype": "text/x-python",
   "name": "python",
   "nbconvert_exporter": "python",
   "pygments_lexer": "ipython3",
   "version": "3.6.7"
  }
 },
 "nbformat": 4,
 "nbformat_minor": 2
}
